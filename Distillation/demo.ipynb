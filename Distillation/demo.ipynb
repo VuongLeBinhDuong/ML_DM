{
  "nbformat": 4,
  "nbformat_minor": 0,
  "metadata": {
    "colab": {
      "provenance": [],
      "gpuType": "T4"
    },
    "kernelspec": {
      "name": "python3",
      "display_name": "Python 3"
    },
    "language_info": {
      "name": "python"
    },
    "accelerator": "GPU",
    "widgets": {
      "application/vnd.jupyter.widget-state+json": {
        "fd347721bf9948af972ab1d92cd5a095": {
          "model_module": "@jupyter-widgets/controls",
          "model_name": "TextModel",
          "model_module_version": "1.5.0",
          "state": {
            "_dom_classes": [],
            "_model_module": "@jupyter-widgets/controls",
            "_model_module_version": "1.5.0",
            "_model_name": "TextModel",
            "_view_count": null,
            "_view_module": "@jupyter-widgets/controls",
            "_view_module_version": "1.5.0",
            "_view_name": "TextView",
            "continuous_update": true,
            "description": "Text:",
            "description_tooltip": null,
            "disabled": false,
            "layout": "IPY_MODEL_9e39ec753f574f8985e261c2b42a984d",
            "placeholder": "​",
            "style": "IPY_MODEL_5b21989e93d94e40b44654c594bfb489",
            "value": ""
          }
        },
        "9e39ec753f574f8985e261c2b42a984d": {
          "model_module": "@jupyter-widgets/base",
          "model_name": "LayoutModel",
          "model_module_version": "1.2.0",
          "state": {
            "_model_module": "@jupyter-widgets/base",
            "_model_module_version": "1.2.0",
            "_model_name": "LayoutModel",
            "_view_count": null,
            "_view_module": "@jupyter-widgets/base",
            "_view_module_version": "1.2.0",
            "_view_name": "LayoutView",
            "align_content": null,
            "align_items": null,
            "align_self": null,
            "border": null,
            "bottom": null,
            "display": null,
            "flex": null,
            "flex_flow": null,
            "grid_area": null,
            "grid_auto_columns": null,
            "grid_auto_flow": null,
            "grid_auto_rows": null,
            "grid_column": null,
            "grid_gap": null,
            "grid_row": null,
            "grid_template_areas": null,
            "grid_template_columns": null,
            "grid_template_rows": null,
            "height": null,
            "justify_content": null,
            "justify_items": null,
            "left": null,
            "margin": null,
            "max_height": null,
            "max_width": null,
            "min_height": null,
            "min_width": null,
            "object_fit": null,
            "object_position": null,
            "order": null,
            "overflow": null,
            "overflow_x": null,
            "overflow_y": null,
            "padding": null,
            "right": null,
            "top": null,
            "visibility": null,
            "width": "500px"
          }
        },
        "5b21989e93d94e40b44654c594bfb489": {
          "model_module": "@jupyter-widgets/controls",
          "model_name": "DescriptionStyleModel",
          "model_module_version": "1.5.0",
          "state": {
            "_model_module": "@jupyter-widgets/controls",
            "_model_module_version": "1.5.0",
            "_model_name": "DescriptionStyleModel",
            "_view_count": null,
            "_view_module": "@jupyter-widgets/base",
            "_view_module_version": "1.2.0",
            "_view_name": "StyleView",
            "description_width": ""
          }
        },
        "60c1b7be5c6f4c69b379f34616872e35": {
          "model_module": "@jupyter-widgets/controls",
          "model_name": "ButtonModel",
          "model_module_version": "1.5.0",
          "state": {
            "_dom_classes": [],
            "_model_module": "@jupyter-widgets/controls",
            "_model_module_version": "1.5.0",
            "_model_name": "ButtonModel",
            "_view_count": null,
            "_view_module": "@jupyter-widgets/controls",
            "_view_module_version": "1.5.0",
            "_view_name": "ButtonView",
            "button_style": "",
            "description": "Predict",
            "disabled": false,
            "icon": "",
            "layout": "IPY_MODEL_f12fe19592404d68b1183cb759b7da2f",
            "style": "IPY_MODEL_7ff910603d1d4abf8ee5cade54c22834",
            "tooltip": ""
          }
        },
        "f12fe19592404d68b1183cb759b7da2f": {
          "model_module": "@jupyter-widgets/base",
          "model_name": "LayoutModel",
          "model_module_version": "1.2.0",
          "state": {
            "_model_module": "@jupyter-widgets/base",
            "_model_module_version": "1.2.0",
            "_model_name": "LayoutModel",
            "_view_count": null,
            "_view_module": "@jupyter-widgets/base",
            "_view_module_version": "1.2.0",
            "_view_name": "LayoutView",
            "align_content": null,
            "align_items": null,
            "align_self": null,
            "border": null,
            "bottom": null,
            "display": null,
            "flex": null,
            "flex_flow": null,
            "grid_area": null,
            "grid_auto_columns": null,
            "grid_auto_flow": null,
            "grid_auto_rows": null,
            "grid_column": null,
            "grid_gap": null,
            "grid_row": null,
            "grid_template_areas": null,
            "grid_template_columns": null,
            "grid_template_rows": null,
            "height": null,
            "justify_content": null,
            "justify_items": null,
            "left": null,
            "margin": null,
            "max_height": null,
            "max_width": null,
            "min_height": null,
            "min_width": null,
            "object_fit": null,
            "object_position": null,
            "order": null,
            "overflow": null,
            "overflow_x": null,
            "overflow_y": null,
            "padding": null,
            "right": null,
            "top": null,
            "visibility": null,
            "width": null
          }
        },
        "7ff910603d1d4abf8ee5cade54c22834": {
          "model_module": "@jupyter-widgets/controls",
          "model_name": "ButtonStyleModel",
          "model_module_version": "1.5.0",
          "state": {
            "_model_module": "@jupyter-widgets/controls",
            "_model_module_version": "1.5.0",
            "_model_name": "ButtonStyleModel",
            "_view_count": null,
            "_view_module": "@jupyter-widgets/base",
            "_view_module_version": "1.2.0",
            "_view_name": "StyleView",
            "button_color": null,
            "font_weight": ""
          }
        },
        "defaaef98b9f4d0ca994dc0f7604a432": {
          "model_module": "@jupyter-widgets/output",
          "model_name": "OutputModel",
          "model_module_version": "1.0.0",
          "state": {
            "_dom_classes": [],
            "_model_module": "@jupyter-widgets/output",
            "_model_module_version": "1.0.0",
            "_model_name": "OutputModel",
            "_view_count": null,
            "_view_module": "@jupyter-widgets/output",
            "_view_module_version": "1.0.0",
            "_view_name": "OutputView",
            "layout": "IPY_MODEL_53fe39cc32a74e6caedd42133352a850",
            "msg_id": "",
            "outputs": []
          }
        },
        "53fe39cc32a74e6caedd42133352a850": {
          "model_module": "@jupyter-widgets/base",
          "model_name": "LayoutModel",
          "model_module_version": "1.2.0",
          "state": {
            "_model_module": "@jupyter-widgets/base",
            "_model_module_version": "1.2.0",
            "_model_name": "LayoutModel",
            "_view_count": null,
            "_view_module": "@jupyter-widgets/base",
            "_view_module_version": "1.2.0",
            "_view_name": "LayoutView",
            "align_content": null,
            "align_items": null,
            "align_self": null,
            "border": null,
            "bottom": null,
            "display": null,
            "flex": null,
            "flex_flow": null,
            "grid_area": null,
            "grid_auto_columns": null,
            "grid_auto_flow": null,
            "grid_auto_rows": null,
            "grid_column": null,
            "grid_gap": null,
            "grid_row": null,
            "grid_template_areas": null,
            "grid_template_columns": null,
            "grid_template_rows": null,
            "height": null,
            "justify_content": null,
            "justify_items": null,
            "left": null,
            "margin": null,
            "max_height": null,
            "max_width": null,
            "min_height": null,
            "min_width": null,
            "object_fit": null,
            "object_position": null,
            "order": null,
            "overflow": null,
            "overflow_x": null,
            "overflow_y": null,
            "padding": null,
            "right": null,
            "top": null,
            "visibility": null,
            "width": null
          }
        }
      }
    }
  },
  "cells": [
    {
      "cell_type": "code",
      "execution_count": null,
      "metadata": {
        "colab": {
          "base_uri": "https://localhost:8080/"
        },
        "id": "uibpOYcsjqfj",
        "outputId": "2c5d2d52-ac34-41b5-eb35-c3df43cb5757"
      },
      "outputs": [
        {
          "output_type": "stream",
          "name": "stdout",
          "text": [
            "Mounted at /content/drive\n"
          ]
        }
      ],
      "source": [
        "# prompt: mount\n",
        "\n",
        "from google.colab import drive\n",
        "drive.mount('/content/drive')"
      ]
    },
    {
      "cell_type": "code",
      "source": [
        "import torch\n",
        "import torch.nn as nn\n",
        "from transformers import BertTokenizer\n",
        "import numpy as np\n",
        "\n",
        "# Constants\n",
        "MAX_LEN = 128\n",
        "DEVICE = torch.device('cuda' if torch.cuda.is_available() else 'cpu')\n",
        "\n",
        "# Student Model (LSTM)\n",
        "class StudentModel(nn.Module):\n",
        "    def __init__(self, vocab_size, embedding_dim, hidden_dim, num_classes, tokenizer):\n",
        "        super(StudentModel, self).__init__()\n",
        "        self.embedding = nn.Embedding(vocab_size, embedding_dim, padding_idx=tokenizer.pad_token_id)\n",
        "        self.lstm = nn.LSTM(\n",
        "            embedding_dim,\n",
        "            hidden_dim,\n",
        "            num_layers=1,\n",
        "            batch_first=True,\n",
        "            bidirectional=True\n",
        "        )\n",
        "        self.dropout = nn.Dropout(0.25)\n",
        "        self.classifier = nn.Linear(hidden_dim * 2, num_classes)\n",
        "        self.match_hidden = nn.Linear(hidden_dim * 2, 768)  # Match với BERT\n",
        "\n",
        "    def forward(self, x):\n",
        "        embedded = self.embedding(x)\n",
        "        lstm_out, _ = self.lstm(embedded)\n",
        "        # Use mean pooling of all hidden states\n",
        "        last_hidden = torch.mean(lstm_out, dim=1)  # Take mean across sequence length dimension\n",
        "        last_hidden = self.dropout(last_hidden)\n",
        "        matched_hidden = self.match_hidden(last_hidden)  # Đưa về 768 chiều\n",
        "        logits = self.classifier(last_hidden)\n",
        "        return logits, matched_hidden\n",
        "\n",
        "def load_model(model_path):\n",
        "    # Khởi tạo tokenizer\n",
        "    tokenizer = BertTokenizer.from_pretrained('bert-base-uncased')\n",
        "\n",
        "    # Khởi tạo model\n",
        "    model = StudentModel(\n",
        "        vocab_size=tokenizer.vocab_size,\n",
        "        embedding_dim=256,\n",
        "        hidden_dim=256,\n",
        "        num_classes=4,\n",
        "        tokenizer=tokenizer  # Thêm tokenizer vào đây\n",
        "    ).to(DEVICE)\n",
        "\n",
        "    # Load weights\n",
        "    checkpoint = torch.load(model_path, map_location=DEVICE)\n",
        "    model.load_state_dict(checkpoint['model_state_dict'])\n",
        "    model.eval()\n",
        "    return model, tokenizer\n",
        "\n",
        "def predict_text(model, tokenizer, text):\n",
        "    # Tokenize text\n",
        "    encoding = tokenizer.encode_plus(\n",
        "        text,\n",
        "        add_special_tokens=True,\n",
        "        max_length=MAX_LEN,\n",
        "        padding='max_length',\n",
        "        truncation=True,\n",
        "        return_attention_mask=False,\n",
        "        return_tensors='pt'\n",
        "    )\n",
        "    input_ids = encoding['input_ids'].to(DEVICE)\n",
        "\n",
        "    # Predict\n",
        "    with torch.no_grad():\n",
        "        logits, _ = model(input_ids)\n",
        "        probs = torch.softmax(logits, dim=1)\n",
        "\n",
        "    # Lấy xác suất cho từng class\n",
        "    probs = probs.cpu().numpy()[0]\n",
        "\n",
        "    # In kết quả\n",
        "    class_names = ['World', 'Sports', 'Business', 'Sci/Tech']\n",
        "    print(\"\\nPrediction Results:\")\n",
        "    for i, (class_name, prob) in enumerate(zip(class_names, probs)):\n",
        "        print(f\"{class_name}: {prob*100:.2f}%\")\n",
        "\n",
        "# Load model\n",
        "model_path = '/content/drive/MyDrive/ML_DM/Student model/acc 87/best_student_model.pth'\n",
        "model, tokenizer = load_model(model_path)\n",
        "print(\"Model loaded successfully!\")\n",
        "\n",
        "# Test với một đoạn text\n",
        "text = \"Apple announces new iPhone with advanced AI features\"\n",
        "predict_text(model, tokenizer, text)"
      ],
      "metadata": {
        "colab": {
          "base_uri": "https://localhost:8080/"
        },
        "id": "T8cnRdvujucv",
        "outputId": "b267eb96-bdbe-407f-b827-1df959a52922"
      },
      "execution_count": null,
      "outputs": [
        {
          "output_type": "stream",
          "name": "stdout",
          "text": [
            "Model loaded successfully!\n",
            "\n",
            "Prediction Results:\n",
            "World: 2.00%\n",
            "Sports: 0.03%\n",
            "Business: 1.35%\n",
            "Sci/Tech: 96.62%\n"
          ]
        }
      ]
    },
    {
      "cell_type": "code",
      "source": [
        "import ipywidgets as widgets\n",
        "from IPython.display import display\n",
        "\n",
        "text_input = widgets.Text(\n",
        "    description='Text:',\n",
        "    layout=widgets.Layout(width='500px')  # hoặc '100%' cho full width\n",
        ")\n",
        "button = widgets.Button(description='Predict')\n",
        "output = widgets.Output()\n",
        "\n",
        "def on_button_clicked(b):\n",
        "    with output:\n",
        "        output.clear_output()\n",
        "        predict_text(model, tokenizer, text_input.value)\n",
        "\n",
        "button.on_click(on_button_clicked)\n",
        "display(text_input, button, output)"
      ],
      "metadata": {
        "colab": {
          "base_uri": "https://localhost:8080/",
          "height": 81,
          "referenced_widgets": [
            "fd347721bf9948af972ab1d92cd5a095",
            "9e39ec753f574f8985e261c2b42a984d",
            "5b21989e93d94e40b44654c594bfb489",
            "60c1b7be5c6f4c69b379f34616872e35",
            "f12fe19592404d68b1183cb759b7da2f",
            "7ff910603d1d4abf8ee5cade54c22834",
            "defaaef98b9f4d0ca994dc0f7604a432",
            "53fe39cc32a74e6caedd42133352a850"
          ]
        },
        "id": "DJnYoWmUjyNA",
        "outputId": "fb659791-f27e-47cf-8ea2-ad5ef79ae5f9"
      },
      "execution_count": null,
      "outputs": [
        {
          "output_type": "display_data",
          "data": {
            "text/plain": [
              "Text(value='', description='Text:', layout=Layout(width='500px'))"
            ],
            "application/vnd.jupyter.widget-view+json": {
              "version_major": 2,
              "version_minor": 0,
              "model_id": "fd347721bf9948af972ab1d92cd5a095"
            }
          },
          "metadata": {}
        },
        {
          "output_type": "display_data",
          "data": {
            "text/plain": [
              "Button(description='Predict', style=ButtonStyle())"
            ],
            "application/vnd.jupyter.widget-view+json": {
              "version_major": 2,
              "version_minor": 0,
              "model_id": "60c1b7be5c6f4c69b379f34616872e35"
            }
          },
          "metadata": {}
        },
        {
          "output_type": "display_data",
          "data": {
            "text/plain": [
              "Output()"
            ],
            "application/vnd.jupyter.widget-view+json": {
              "version_major": 2,
              "version_minor": 0,
              "model_id": "defaaef98b9f4d0ca994dc0f7604a432"
            }
          },
          "metadata": {}
        }
      ]
    }
  ]
}